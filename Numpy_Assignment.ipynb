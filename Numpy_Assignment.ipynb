{
  "nbformat": 4,
  "nbformat_minor": 0,
  "metadata": {
    "colab": {
      "provenance": []
    },
    "kernelspec": {
      "name": "python3",
      "display_name": "Python 3"
    },
    "language_info": {
      "name": "python"
    }
  },
  "cells": [
    {
      "cell_type": "markdown",
      "source": [
        "Consider the below code to answer further questions:\n",
        "import numpy as np\n",
        "list_ = [ ‘1’ , ’2’ , ‘3’ , ‘4’ , ‘5’ ]\n",
        "array_list = np.array(object = list_)"
      ],
      "metadata": {
        "id": "uOZmSkMCkBSc"
      }
    },
    {
      "cell_type": "markdown",
      "source": [
        "Q1. Is there any difference in the data type of variables list_ and array_list? If there is then write a code\n",
        "to print the data types of both the variables."
      ],
      "metadata": {
        "id": "VC3fizEfkMtG"
      }
    },
    {
      "cell_type": "markdown",
      "source": [
        "Ans = In Python, a list is a built-in data structure that can hold an ordered collection of items. It's a versatile data structure that can contain elements of different data types and can dynamically grow or shrink. Lists are created using square brackets [ ].\n",
        "\n",
        "On the other hand, in the context of NumPy (a library in Python for numerical computations), an 'array' refers to a NumPy array. A NumPy array is a more structured and specialized data structure designed for numerical computations. NumPy arrays are homogeneous, meaning they can only contain elements of the same data type. They offer many advantages for mathematical operations and array-based computations."
      ],
      "metadata": {
        "id": "Kk-nmgo6kUdk"
      }
    },
    {
      "cell_type": "code",
      "source": [
        "import numpy as np\n",
        "\n",
        "list_ = [1, 2, 3, 4, 5]\n",
        "array_list = np.array(list_)\n",
        "\n",
        "print(\"Data type of list:\", type(list_))\n",
        "print(\"Data type of array_list:\", type(array_list))"
      ],
      "metadata": {
        "colab": {
          "base_uri": "https://localhost:8080/"
        },
        "id": "PTnGqbm4kQGo",
        "outputId": "2d5dd03c-0dd7-4a2c-fdcb-dd77e384c87e"
      },
      "execution_count": 2,
      "outputs": [
        {
          "output_type": "stream",
          "name": "stdout",
          "text": [
            "Data type of list: <class 'list'>\n",
            "Data type of array_list: <class 'numpy.ndarray'>\n"
          ]
        }
      ]
    },
    {
      "cell_type": "markdown",
      "source": [],
      "metadata": {
        "id": "o-HYoKS4kyaD"
      }
    },
    {
      "cell_type": "code",
      "source": [
        "import numpy as np\n",
        "\n",
        "list_ = [ '1' , '2','3' , '4' , '5' ]\n",
        "\n",
        "array_list = np.array(object = list_)"
      ],
      "metadata": {
        "id": "QASY5o78kzFr"
      },
      "execution_count": 3,
      "outputs": []
    },
    {
      "cell_type": "markdown",
      "source": [
        "Q2. Write a code to print the data type of each and every element of both the variables list_ and\n",
        "arra_list."
      ],
      "metadata": {
        "id": "aa1iigYJkq2s"
      }
    },
    {
      "cell_type": "code",
      "source": [
        "import numpy as np\n",
        "\n",
        "list_ = [1, 2, 3, 4, 5]\n",
        "array_list = np.array(list_)\n",
        "\n",
        "# Print data types of each element in list_\n",
        "print(\"Data types of elements in list:\")\n",
        "for item in list_:\n",
        "    print(type(item))\n",
        "\n",
        "# Print data types of each element in array_list\n",
        "print(\"\\nData types of elements in array_list:\")\n",
        "for item in array_list:\n",
        "    print(type(item))"
      ],
      "metadata": {
        "colab": {
          "base_uri": "https://localhost:8080/"
        },
        "id": "1Z791_qykjlR",
        "outputId": "355b6203-4885-459a-ed18-fd0cfbf24b58"
      },
      "execution_count": 4,
      "outputs": [
        {
          "output_type": "stream",
          "name": "stdout",
          "text": [
            "Data types of elements in list:\n",
            "<class 'int'>\n",
            "<class 'int'>\n",
            "<class 'int'>\n",
            "<class 'int'>\n",
            "<class 'int'>\n",
            "\n",
            "Data types of elements in array_list:\n",
            "<class 'numpy.int64'>\n",
            "<class 'numpy.int64'>\n",
            "<class 'numpy.int64'>\n",
            "<class 'numpy.int64'>\n",
            "<class 'numpy.int64'>\n"
          ]
        }
      ]
    },
    {
      "cell_type": "markdown",
      "source": [
        "Q3. Considering the following changes in the variable, array_list:\n",
        "array_list = np.array(object = list_, dtype = int)\n",
        "Will there be any difference in the data type of the elements present in both the variables, list_ and\n",
        "arra_list? If so then print the data types of each and every element present in both the variables, list_\n",
        "and arra_list.\n",
        "Consider the below code to answer further questions:\n",
        "import numpy as np\n",
        "num_list = [ [ 1 , 2 , 3 ] , [ 4 , 5 , 6 ] ]\n",
        "num_array = np.array(object = num_list)"
      ],
      "metadata": {
        "id": "n1Oh3XMOk7H7"
      }
    },
    {
      "cell_type": "markdown",
      "source": [
        "Ans -> In the provided code, you are creating a NumPy array `num_array` using the list `num_list`. The elements in the `num_array` will have the same data types as the elements in the original `num_list`. Since the `dtype` parameter is not explicitly specified, NumPy will automatically determine the appropriate data type based on the elements in the list."
      ],
      "metadata": {
        "id": "iP8u8HmAlE6R"
      }
    },
    {
      "cell_type": "code",
      "source": [
        "import numpy as np\n",
        "\n",
        "# Original list and NumPy array creation\n",
        "num_list = [[1, 2, 3], [4, 5, 6]]\n",
        "num_array = np.array(object=num_list)\n",
        "\n",
        "# Printing data types of elements in num_list\n",
        "print(\"Data types of elements in num_list:\")\n",
        "for sublist in num_list:\n",
        "    for item in sublist:\n",
        "        print(type(item))\n",
        "\n",
        "# Printing data types of elements in num_array\n",
        "print(\"\\nData types of elements in num_array:\")\n",
        "for sublist in num_array:\n",
        "    for item in sublist:\n",
        "        print(type(item))"
      ],
      "metadata": {
        "colab": {
          "base_uri": "https://localhost:8080/"
        },
        "id": "M8H9JG4Uk4VI",
        "outputId": "efe9403a-e42c-4d5f-9902-413f3d628a4b"
      },
      "execution_count": 5,
      "outputs": [
        {
          "output_type": "stream",
          "name": "stdout",
          "text": [
            "Data types of elements in num_list:\n",
            "<class 'int'>\n",
            "<class 'int'>\n",
            "<class 'int'>\n",
            "<class 'int'>\n",
            "<class 'int'>\n",
            "<class 'int'>\n",
            "\n",
            "Data types of elements in num_array:\n",
            "<class 'numpy.int64'>\n",
            "<class 'numpy.int64'>\n",
            "<class 'numpy.int64'>\n",
            "<class 'numpy.int64'>\n",
            "<class 'numpy.int64'>\n",
            "<class 'numpy.int64'>\n"
          ]
        }
      ]
    },
    {
      "cell_type": "markdown",
      "source": [
        "Q4. Write a code to find the following characteristics of variable, num_array:\n",
        "(i) shape\n",
        "(ii) size"
      ],
      "metadata": {
        "id": "fWKQ5QXOlPXK"
      }
    },
    {
      "cell_type": "code",
      "source": [
        "import numpy  as np\n",
        "l1 = [[1,3,4,5],[4,5,6,7]]\n",
        "arr1 = np.array(l1)\n",
        "print(\"The shape of the arry is \" ,arr1.shape)\n",
        "print(\"The size of the array is \",arr1.size)"
      ],
      "metadata": {
        "colab": {
          "base_uri": "https://localhost:8080/"
        },
        "id": "oWcmlQN_lIrm",
        "outputId": "d804e95d-ba90-4a27-a58a-bd152da572b7"
      },
      "execution_count": 6,
      "outputs": [
        {
          "output_type": "stream",
          "name": "stdout",
          "text": [
            "The shape of the arry is  (2, 4)\n",
            "The size of the array is  8\n"
          ]
        }
      ]
    },
    {
      "cell_type": "markdown",
      "source": [
        "Q5. Write a code to create numpy array of 3*3 matrix containing zeros only, using a numpy array\n",
        "creation function.\n",
        "[Hint: The size of the array will be 9 and the shape will be (3,3).]"
      ],
      "metadata": {
        "id": "qTwytx_ZlT5S"
      }
    },
    {
      "cell_type": "code",
      "source": [
        "import numpy  as np\n",
        "arr = np.zeros((3,3))\n",
        "arr"
      ],
      "metadata": {
        "colab": {
          "base_uri": "https://localhost:8080/"
        },
        "id": "n22pPQBklSuO",
        "outputId": "6f664668-2f65-4c23-ddbf-ea3081a650a8"
      },
      "execution_count": 7,
      "outputs": [
        {
          "output_type": "execute_result",
          "data": {
            "text/plain": [
              "array([[0., 0., 0.],\n",
              "       [0., 0., 0.],\n",
              "       [0., 0., 0.]])"
            ]
          },
          "metadata": {},
          "execution_count": 7
        }
      ]
    },
    {
      "cell_type": "markdown",
      "source": [
        "Q6. Create an identity matrix of shape (5,5) using numpy functions?\n",
        "[Hint: An identity matrix is a matrix containing 1 diagonally and other elements will be 0.]"
      ],
      "metadata": {
        "id": "lFYCL4bblb0p"
      }
    },
    {
      "cell_type": "code",
      "source": [
        "import numpy  as np\n",
        "arr = np.eye(5)\n",
        "arr"
      ],
      "metadata": {
        "colab": {
          "base_uri": "https://localhost:8080/"
        },
        "id": "kfk23uiLlagt",
        "outputId": "eb35a390-fff2-4540-8f09-8749cc9e0012"
      },
      "execution_count": 8,
      "outputs": [
        {
          "output_type": "execute_result",
          "data": {
            "text/plain": [
              "array([[1., 0., 0., 0., 0.],\n",
              "       [0., 1., 0., 0., 0.],\n",
              "       [0., 0., 1., 0., 0.],\n",
              "       [0., 0., 0., 1., 0.],\n",
              "       [0., 0., 0., 0., 1.]])"
            ]
          },
          "metadata": {},
          "execution_count": 8
        }
      ]
    },
    {
      "cell_type": "code",
      "source": [],
      "metadata": {
        "id": "Tzm7pPSmlhAV"
      },
      "execution_count": null,
      "outputs": []
    }
  ]
}